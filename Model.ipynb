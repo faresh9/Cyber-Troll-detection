{
 "cells": [
  {
   "cell_type": "code",
   "execution_count": 30,
   "id": "b72f8c2f",
   "metadata": {},
   "outputs": [],
   "source": [
    "import pandas as pd\n",
    "import numpy as np\n",
    "import re \n"
   ]
  },
  {
   "cell_type": "code",
   "execution_count": null,
   "id": "4ef937e8",
   "metadata": {},
   "outputs": [
    {
     "name": "stderr",
     "output_type": "stream",
     "text": [
      "C:\\Users\\mahdi\\AppData\\Local\\Temp\\ipykernel_9144\\2101796585.py:2: DtypeWarning: Columns (9,11,12,13,14,15,17) have mixed types. Specify dtype option on import or set low_memory=False.\n",
      "  df = pd.read_csv('data.csv', on_bad_lines='skip')  # Replace with your file name\n"
     ]
    },
    {
     "name": "stdout",
     "output_type": "stream",
     "text": [
      "Done! Cleaned tweets saved to 'cleaned_tweets.csv'\n"
     ]
    }
   ],
   "source": [
    "df = pd.read_csv('data.csv', on_bad_lines='skip')  \n",
    "\n",
    "\n",
    "df = df[['Tweet_Content']]\n",
    "\n",
    "\n",
    "def clean_tweet(text):\n",
    "    text = str(text)\n",
    "    text = re.sub(r'http\\S+|www.\\S+', '', text)   \n",
    "    text = re.sub(r'@\\w+', '', text)              \n",
    "    text = re.sub(r'#\\w+', '', text)              \n",
    "    text = re.sub(r'[^A-Za-z0-9\\s]', '', text)    \n",
    "    text = re.sub(r'\\s+', ' ', text)              \n",
    "    return text.strip().lower()                   \n",
    "\n",
    "\n",
    "df['Tweet_Content'] = df['Tweet_Content'].apply(clean_tweet)\n",
    "\n",
    "\n",
    "df.drop_duplicates(subset='Tweet_Content', inplace=True)\n",
    "\n",
    "\n",
    "df.reset_index(drop=True, inplace=True)\n",
    "\n",
    "\n",
    "df.to_csv('cleaned_tweets.csv', index=False)\n",
    "\n",
    "\n"
   ]
  },
  {
   "cell_type": "code",
   "execution_count": 2,
   "id": "1dbcf61d",
   "metadata": {},
   "outputs": [
    {
     "name": "stdout",
     "output_type": "stream",
     "text": [
      "Saved rows 0 to 8794 as cleaned_split_part_1.csv\n",
      "Saved rows 8794 to 17588 as cleaned_split_part_2.csv\n",
      "Saved rows 17588 to 26382 as cleaned_split_part_3.csv\n",
      "Saved rows 26382 to 35176 as cleaned_split_part_4.csv\n",
      "Saved rows 35176 to 43972 as cleaned_split_part_5.csv\n"
     ]
    }
   ],
   "source": [
    "import pandas as pd\n",
    "\n",
    "\n",
    "df = pd.read_csv('cleaned_tweets.csv')\n",
    "\n",
    "total_rows = len(df)\n",
    "split_size = total_rows // 5  \n",
    "\n",
    "for i in range(5):\n",
    "    start = i * split_size\n",
    "    end = (i + 1) * split_size if i < 4 else total_rows\n",
    "    split_df = df.iloc[start:end]\n",
    "    split_df.to_csv(f'cleaned_split_part_{i+1}.csv', index=False)\n",
    "    print(f\"Saved rows {start} to {end} as cleaned_split_part_{i+1}.csv\")\n"
   ]
  },
  {
   "cell_type": "code",
   "execution_count": null,
   "id": "292cd27f",
   "metadata": {},
   "outputs": [],
   "source": []
  }
 ],
 "metadata": {
  "kernelspec": {
   "display_name": "Python 3",
   "language": "python",
   "name": "python3"
  },
  "language_info": {
   "codemirror_mode": {
    "name": "ipython",
    "version": 3
   },
   "file_extension": ".py",
   "mimetype": "text/x-python",
   "name": "python",
   "nbconvert_exporter": "python",
   "pygments_lexer": "ipython3",
   "version": "3.12.10"
  }
 },
 "nbformat": 4,
 "nbformat_minor": 5
}
