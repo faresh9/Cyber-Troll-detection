{
 "cells": [
  {
   "cell_type": "code",
   "execution_count": 5,
   "metadata": {},
   "outputs": [
    {
     "name": "stdout",
     "output_type": "stream",
     "text": [
      "     symboling normalized-losses         make fuel-type aspiration  \\\n",
      "0            3                 ?  alfa-romero       gas        std   \n",
      "1            3                 ?  alfa-romero       gas        std   \n",
      "2            1                 ?  alfa-romero       gas        std   \n",
      "3            2               164         audi       gas        std   \n",
      "4            2               164         audi       gas        std   \n",
      "..         ...               ...          ...       ...        ...   \n",
      "200         -1                95        volvo       gas        std   \n",
      "201         -1                95        volvo       gas      turbo   \n",
      "202         -1                95        volvo       gas        std   \n",
      "203         -1                95        volvo    diesel      turbo   \n",
      "204         -1                95        volvo       gas      turbo   \n",
      "\n",
      "    num-of-doors   body-style drive-wheels engine-location  wheel-base  ...  \\\n",
      "0            two  convertible          rwd           front        88.6  ...   \n",
      "1            two  convertible          rwd           front        88.6  ...   \n",
      "2            two    hatchback          rwd           front        94.5  ...   \n",
      "3           four        sedan          fwd           front        99.8  ...   \n",
      "4           four        sedan          4wd           front        99.4  ...   \n",
      "..           ...          ...          ...             ...         ...  ...   \n",
      "200         four        sedan          rwd           front       109.1  ...   \n",
      "201         four        sedan          rwd           front       109.1  ...   \n",
      "202         four        sedan          rwd           front       109.1  ...   \n",
      "203         four        sedan          rwd           front       109.1  ...   \n",
      "204         four        sedan          rwd           front       109.1  ...   \n",
      "\n",
      "     engine-size  fuel-system  bore  stroke compression-ratio horsepower  \\\n",
      "0            130         mpfi  3.47    2.68               9.0        111   \n",
      "1            130         mpfi  3.47    2.68               9.0        111   \n",
      "2            152         mpfi  2.68    3.47               9.0        154   \n",
      "3            109         mpfi  3.19    3.40              10.0        102   \n",
      "4            136         mpfi  3.19    3.40               8.0        115   \n",
      "..           ...          ...   ...     ...               ...        ...   \n",
      "200          141         mpfi  3.78    3.15               9.5        114   \n",
      "201          141         mpfi  3.78    3.15               8.7        160   \n",
      "202          173         mpfi  3.58    2.87               8.8        134   \n",
      "203          145          idi  3.01    3.40              23.0        106   \n",
      "204          141         mpfi  3.78    3.15               9.5        114   \n",
      "\n",
      "     peak-rpm city-mpg highway-mpg  price  \n",
      "0        5000       21          27  13495  \n",
      "1        5000       21          27  16500  \n",
      "2        5000       19          26  16500  \n",
      "3        5500       24          30  13950  \n",
      "4        5500       18          22  17450  \n",
      "..        ...      ...         ...    ...  \n",
      "200      5400       23          28  16845  \n",
      "201      5300       19          25  19045  \n",
      "202      5500       18          23  21485  \n",
      "203      4800       26          27  22470  \n",
      "204      5400       19          25  22625  \n",
      "\n",
      "[205 rows x 26 columns]\n"
     ]
    }
   ],
   "source": [
    "data_url = 'http://archive.ics.uci.edu/ml/machine-learning-databases/autos/imports-85.data'\n",
    "import pandas as pd\n",
    "import numpy as np\n",
    "import matplotlib.pyplot as plt \n",
    "import seaborn as sns\n",
    "df=pd.read_csv(data_url,header=None)  \n",
    "df.columns = ['symboling','normalized-losses','make','fuel-type','aspiration','num-of-doors','body-style','drive-wheels','engine-location','wheel-base','length','width','height','curb-weight','engine-type','num-of-cylinders','engine-size','fuel-system','bore','stroke','compression-ratio','horsepower','peak-rpm','city-mpg','highway-mpg','price']\n",
    "print (df) "
   ]
  }
 ],
 "metadata": {
  "kernelspec": {
   "display_name": "Python 3",
   "language": "python",
   "name": "python3"
  },
  "language_info": {
   "codemirror_mode": {
    "name": "ipython",
    "version": 3
   },
   "file_extension": ".py",
   "mimetype": "text/x-python",
   "name": "python",
   "nbconvert_exporter": "python",
   "pygments_lexer": "ipython3",
   "version": "3.12.4"
  }
 },
 "nbformat": 4,
 "nbformat_minor": 2
}
